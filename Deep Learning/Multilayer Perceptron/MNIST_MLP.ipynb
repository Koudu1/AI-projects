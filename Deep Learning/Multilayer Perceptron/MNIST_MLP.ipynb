{
 "cells": [
  {
   "cell_type": "code",
   "execution_count": 1,
   "id": "1044dade",
   "metadata": {},
   "outputs": [
    {
     "data": {
      "text/plain": [
       "device(type='cuda', index=0)"
      ]
     },
     "execution_count": 1,
     "metadata": {},
     "output_type": "execute_result"
    }
   ],
   "source": [
    "# Import necessary libraries \n",
    "from torchvision.datasets import FashionMNIST\n",
    "from torch.utils.data import DataLoader     # Import loader for dataset (data - spliter)\n",
    "import torchvision.transforms as transforms\n",
    "import torch\n",
    "import torch.nn as nn\n",
    "import torch.optim as optim \n",
    "import matplotlib.pyplot as plt \n",
    "\n",
    "# Declare the device to execute the task (gpu - cuda, cpu - cpu)\n",
    "device = torch.device(\"cuda:0\" if torch.cuda.is_available() else \"cpu\")\n",
    "device"
   ]
  },
  {
   "cell_type": "markdown",
   "id": "ac372308",
   "metadata": {},
   "source": [
    "### Download the MNIST dataset"
   ]
  },
  {
   "cell_type": "code",
   "execution_count": 2,
   "id": "ef36b8b0",
   "metadata": {},
   "outputs": [
    {
     "name": "stderr",
     "output_type": "stream",
     "text": [
      "100.0%\n",
      "100.0%\n",
      "100.0%\n",
      "100.0%\n"
     ]
    }
   ],
   "source": [
    "trainingData = FashionMNIST(root='data',\n",
    "                     train=True,\n",
    "                     download=True)\n",
    "\n",
    "testingData = FashionMNIST(root='data',\n",
    "                    train=False,\n",
    "                    download=True)"
   ]
  },
  {
   "cell_type": "markdown",
   "id": "9548f9c9",
   "metadata": {},
   "source": [
    "### FashionMNIST - No Normalization - Softmax Regression"
   ]
  },
  {
   "cell_type": "code",
   "execution_count": 3,
   "id": "efe78667",
   "metadata": {},
   "outputs": [],
   "source": [
    "transform = transforms.Compose([transforms.ToTensor(),\n",
    "                                 transforms.Normalize((0.0, ), (1.0, ))])\n",
    "\n",
    "trainingData = FashionMNIST(root='data', train=True, download=False, transform=transform)\n",
    "trainLoader = DataLoader(trainingData, batch_size=1024, shuffle=True, num_workers=10)\n",
    "\n",
    "testingData = FashionMNIST(root='data', train=False, download=False, transform=transform)\n",
    "testLoader = DataLoader(trainingData, batch_size=1024, shuffle=False, num_workers=10)"
   ]
  },
  {
   "cell_type": "code",
   "execution_count": 4,
   "id": "26b0da5a",
   "metadata": {},
   "outputs": [
    {
     "name": "stdout",
     "output_type": "stream",
     "text": [
      "Sequential(\n",
      "  (0): Flatten(start_dim=1, end_dim=-1)\n",
      "  (1): Linear(in_features=784, out_features=10, bias=True)\n",
      ")\n"
     ]
    }
   ],
   "source": [
    "softmaxRegressionModel = nn.Sequential(\n",
    "    nn.Flatten(),\n",
    "    nn.Linear(in_features=784, out_features=10)\n",
    ")\n",
    "\n",
    "softmaxRegressionModel = softmaxRegressionModel.to(device)\n",
    "print(softmaxRegressionModel)"
   ]
  },
  {
   "cell_type": "code",
   "execution_count": 5,
   "id": "9792630c",
   "metadata": {},
   "outputs": [],
   "source": [
    "criterion = nn.CrossEntropyLoss()\n",
    "optimizer = optim.SGD(softmaxRegressionModel.parameters(), lr=1e-4)"
   ]
  },
  {
   "cell_type": "code",
   "execution_count": 11,
   "id": "63cf812f",
   "metadata": {},
   "outputs": [],
   "source": [
    "def computeMean(loader):\n",
    "    mean = 0.0\n",
    "    for images, _ in loader:\n",
    "        batch_samples = images.size(0)\n",
    "        images = images.view(batch_samples, images.size(1), -1)\n",
    "        mean += images.mean(2).sum(0)\n",
    "    return mean / len(loader.dataset)"
   ]
  },
  {
   "cell_type": "code",
   "execution_count": 14,
   "id": "4248ee6d",
   "metadata": {},
   "outputs": [],
   "source": [
    "def computeStandardDeviation(loader, mean):\n",
    "    variance = 0.0\n",
    "    for images, _ in loader:\n",
    "        batch_samples = images.size(0)\n",
    "        images = images.view(batch_samples, images.size(1), -1)\n",
    "        variance += ((images - mean.unsqueeze(1))**2).sum([0, 2])\n",
    "    standardDeviation = torch.sqrt(variance / (len(loader.dataset)*28*28))\n",
    "    return standardDeviation"
   ]
  },
  {
   "cell_type": "code",
   "execution_count": 7,
   "id": "8f83f161",
   "metadata": {},
   "outputs": [],
   "source": [
    "def evaluateModel(model, testLoader, criterion):\n",
    "    model.eval()\n",
    "    testLoss = 0.0\n",
    "    correct = 0\n",
    "    total = 0\n",
    "    with torch.no_grad():\n",
    "\n",
    "        for images, labels in testLoader:\n",
    "            images, labels = images.to(device), labels.to(device)\n",
    "\n",
    "            outputs = model(images)\n",
    "            loss = criterion(outputs, labels)\n",
    "            testLoss += loss.item()\n",
    "\n",
    "            _, predicted = torch.max(outputs.data, dim=1)\n",
    "            correct += (predicted == labels).sum().item()\n",
    "            total += labels.size(0)\n",
    "\n",
    "    accuracy = 100 * correct / total\n",
    "    testLoss = testLoss / len(testLoader)\n",
    "    return accuracy, testLoss "
   ]
  },
  {
   "cell_type": "code",
   "execution_count": 10,
   "id": "e1f2e349",
   "metadata": {},
   "outputs": [],
   "source": [
    "def trainModel(numberOfEpochs, trainLoader, testLoader, criterion, optimizer, model, device):\n",
    "    trainLosses = []\n",
    "    trainAccuracies = []\n",
    "    testLosses = []\n",
    "    testAccuracies = []\n",
    "\n",
    "    for epoch in range(numberOfEpochs):\n",
    "        \n",
    "        trainLoss = 0.0\n",
    "        correct = 0\n",
    "        total = 0\n",
    "\n",
    "        for i, (inputs, labels) in enumerate(trainLoader, 0):\n",
    "\n",
    "            inputs, labels = inputs.to(device), labels.to(device)\n",
    "            optimizer.zero_grad()\n",
    "\n",
    "            outputs = model(inputs)\n",
    "            loss = criterion(outputs, labels)\n",
    "            trainLoss += loss.item()\n",
    "\n",
    "            _, predicted = torch.max(outputs.data, dim=1)\n",
    "            correct += (predicted == labels).sum().item()\n",
    "            total += labels.size(0)\n",
    "\n",
    "            loss.backward()\n",
    "            optimizer.step()\n",
    "        \n",
    "        trainAccuracy = 100 * correct / total\n",
    "        trainLoss = trainLoss / (i+1)\n",
    "        testAccuracy, testLoss = evaluateModel(model, testLoader, criterion)\n",
    "        print(f\"Epoch {epoch+1}/{numberOfEpochs}, Accuracy: {trainAccuracy:.2f}, Loss: {trainLoss:.4f}, Accuracy: {testAccuracy:.2f}, Loss: {testLoss:.4f}\")\n",
    "    \n",
    "        trainAccuracies.append(trainAccuracy)\n",
    "        trainLosses.append(trainLoss)\n",
    "        testAccuracies.append(testAccuracy)\n",
    "        testLosses.append(testLoss)\n",
    "\n",
    "    return trainAccuracies, trainLosses, testAccuracies, testLosses\n"
   ]
  },
  {
   "cell_type": "code",
   "execution_count": 9,
   "id": "1d69701a",
   "metadata": {},
   "outputs": [
    {
     "name": "stdout",
     "output_type": "stream",
     "text": [
      "Epoch 1/50, Accuracy: 14.93, Loss: 2.2916, Accuracy: 15.56, Loss: 2.2829\n",
      "Epoch 2/50, Accuracy: 16.15, Loss: 2.2748, Accuracy: 16.71, Loss: 2.2664\n",
      "Epoch 3/50, Accuracy: 17.26, Loss: 2.2588, Accuracy: 17.78, Loss: 2.2507\n",
      "Epoch 4/50, Accuracy: 18.29, Loss: 2.2432, Accuracy: 18.80, Loss: 2.2356\n",
      "Epoch 5/50, Accuracy: 19.23, Loss: 2.2285, Accuracy: 19.70, Loss: 2.2210\n",
      "Epoch 6/50, Accuracy: 20.12, Loss: 2.2142, Accuracy: 20.62, Loss: 2.2070\n",
      "Epoch 7/50, Accuracy: 21.08, Loss: 2.2003, Accuracy: 21.54, Loss: 2.1934\n",
      "Epoch 8/50, Accuracy: 21.99, Loss: 2.1870, Accuracy: 22.45, Loss: 2.1802\n",
      "Epoch 9/50, Accuracy: 23.00, Loss: 2.1740, Accuracy: 23.62, Loss: 2.1674\n",
      "Epoch 10/50, Accuracy: 24.28, Loss: 2.1614, Accuracy: 24.91, Loss: 2.1550\n",
      "Epoch 11/50, Accuracy: 25.54, Loss: 2.1491, Accuracy: 26.17, Loss: 2.1429\n",
      "Epoch 12/50, Accuracy: 26.86, Loss: 2.1372, Accuracy: 27.56, Loss: 2.1312\n",
      "Epoch 13/50, Accuracy: 28.18, Loss: 2.1257, Accuracy: 28.83, Loss: 2.1197\n",
      "Epoch 14/50, Accuracy: 29.47, Loss: 2.1144, Accuracy: 30.17, Loss: 2.1084\n",
      "Epoch 15/50, Accuracy: 30.75, Loss: 2.1031, Accuracy: 31.44, Loss: 2.0974\n",
      "Epoch 16/50, Accuracy: 32.11, Loss: 2.0923, Accuracy: 32.73, Loss: 2.0866\n",
      "Epoch 17/50, Accuracy: 33.42, Loss: 2.0816, Accuracy: 34.08, Loss: 2.0761\n",
      "Epoch 18/50, Accuracy: 34.67, Loss: 2.0711, Accuracy: 35.39, Loss: 2.0657\n",
      "Epoch 19/50, Accuracy: 35.98, Loss: 2.0609, Accuracy: 36.57, Loss: 2.0555\n",
      "Epoch 20/50, Accuracy: 37.19, Loss: 2.0508, Accuracy: 37.84, Loss: 2.0455\n",
      "Epoch 21/50, Accuracy: 38.49, Loss: 2.0407, Accuracy: 39.24, Loss: 2.0357\n",
      "Epoch 22/50, Accuracy: 39.88, Loss: 2.0311, Accuracy: 40.58, Loss: 2.0260\n",
      "Epoch 23/50, Accuracy: 41.25, Loss: 2.0213, Accuracy: 41.94, Loss: 2.0165\n",
      "Epoch 24/50, Accuracy: 42.58, Loss: 2.0120, Accuracy: 43.31, Loss: 2.0071\n",
      "Epoch 25/50, Accuracy: 43.97, Loss: 2.0025, Accuracy: 44.67, Loss: 1.9978\n",
      "Epoch 26/50, Accuracy: 45.30, Loss: 1.9934, Accuracy: 45.88, Loss: 1.9887\n",
      "Epoch 27/50, Accuracy: 46.47, Loss: 1.9845, Accuracy: 47.00, Loss: 1.9797\n",
      "Epoch 28/50, Accuracy: 47.56, Loss: 1.9754, Accuracy: 48.13, Loss: 1.9708\n",
      "Epoch 29/50, Accuracy: 48.71, Loss: 1.9666, Accuracy: 49.26, Loss: 1.9621\n",
      "Epoch 30/50, Accuracy: 49.70, Loss: 1.9579, Accuracy: 50.18, Loss: 1.9534\n",
      "Epoch 31/50, Accuracy: 50.62, Loss: 1.9492, Accuracy: 51.05, Loss: 1.9449\n",
      "Epoch 32/50, Accuracy: 51.44, Loss: 1.9409, Accuracy: 51.88, Loss: 1.9364\n",
      "Epoch 33/50, Accuracy: 52.20, Loss: 1.9326, Accuracy: 52.58, Loss: 1.9281\n",
      "Epoch 34/50, Accuracy: 52.91, Loss: 1.9243, Accuracy: 53.25, Loss: 1.9199\n",
      "Epoch 35/50, Accuracy: 53.59, Loss: 1.9159, Accuracy: 53.90, Loss: 1.9118\n",
      "Epoch 36/50, Accuracy: 54.17, Loss: 1.9079, Accuracy: 54.49, Loss: 1.9037\n",
      "Epoch 37/50, Accuracy: 54.75, Loss: 1.9000, Accuracy: 55.02, Loss: 1.8958\n",
      "Epoch 38/50, Accuracy: 55.27, Loss: 1.8921, Accuracy: 55.55, Loss: 1.8879\n",
      "Epoch 39/50, Accuracy: 55.76, Loss: 1.8843, Accuracy: 56.02, Loss: 1.8802\n",
      "Epoch 40/50, Accuracy: 56.25, Loss: 1.8764, Accuracy: 56.47, Loss: 1.8725\n",
      "Epoch 41/50, Accuracy: 56.70, Loss: 1.8690, Accuracy: 56.92, Loss: 1.8649\n",
      "Epoch 42/50, Accuracy: 57.12, Loss: 1.8613, Accuracy: 57.31, Loss: 1.8574\n",
      "Epoch 43/50, Accuracy: 57.51, Loss: 1.8539, Accuracy: 57.71, Loss: 1.8500\n",
      "Epoch 44/50, Accuracy: 57.89, Loss: 1.8465, Accuracy: 58.12, Loss: 1.8427\n",
      "Epoch 45/50, Accuracy: 58.28, Loss: 1.8392, Accuracy: 58.45, Loss: 1.8354\n",
      "Epoch 46/50, Accuracy: 58.62, Loss: 1.8320, Accuracy: 58.79, Loss: 1.8283\n",
      "Epoch 47/50, Accuracy: 58.95, Loss: 1.8248, Accuracy: 59.07, Loss: 1.8212\n",
      "Epoch 48/50, Accuracy: 59.26, Loss: 1.8179, Accuracy: 59.39, Loss: 1.8142\n",
      "Epoch 49/50, Accuracy: 59.54, Loss: 1.8109, Accuracy: 59.69, Loss: 1.8072\n",
      "Epoch 50/50, Accuracy: 59.79, Loss: 1.8041, Accuracy: 59.90, Loss: 1.8004\n"
     ]
    }
   ],
   "source": [
    "trainAccuracies, trainLosses, testAccuracies, testLosses = trainModel(numberOfEpochs=50, trainLoader = trainLoader, \n",
    "                                                                    testLoader = testLoader, criterion=criterion, \n",
    "                                                                    optimizer=optimizer, model=softmaxRegressionModel, device=device)"
   ]
  },
  {
   "cell_type": "code",
   "execution_count": 10,
   "id": "0851a3d8",
   "metadata": {},
   "outputs": [
    {
     "data": {
      "image/png": "[encoded data removed]",
      "text/plain": [
       "<Figure size 640x480 with 1 Axes>"
      ]
     },
     "metadata": {},
     "output_type": "display_data"
    }
   ],
   "source": [
    "plt.plot(trainAccuracies, label='Training')\n",
    "plt.plot(testAccuracies, label='Testing')\n",
    "plt.legend()\n",
    "plt.show()"
   ]
  },
  {
   "cell_type": "markdown",
   "id": "7d9fca9a",
   "metadata": {},
   "source": [
    "### FashionMNIST - Norminalisation - Softmax Regression"
   ]
  },
  {
   "cell_type": "code",
   "execution_count": 15,
   "id": "80a23568",
   "metadata": {},
   "outputs": [
    {
     "name": "stdout",
     "output_type": "stream",
     "text": [
      "tensor([0.2860]) tensor([0.3530])\n"
     ]
    }
   ],
   "source": [
    "transform = transforms.Compose([transforms.ToTensor()])\n",
    "\n",
    "trainingData = FashionMNIST(root='data', download=False, train=True, transform=transform)\n",
    "trainLoader = DataLoader(trainingData, batch_size=1024, num_workers=10, shuffle=True)\n",
    "\n",
    "meanTrainingData = computeMean(trainLoader)\n",
    "standardDeviation = computeStandardDeviation(trainLoader, meanTrainingData)\n",
    "\n",
    "print(meanTrainingData, standardDeviation)\n",
    "\n"
   ]
  },
  {
   "cell_type": "code",
   "execution_count": 16,
   "id": "2427c05d",
   "metadata": {},
   "outputs": [],
   "source": [
    "transform = transforms.Compose([transforms.ToTensor(),\n",
    "                                transforms.Normalize((meanTrainingData,), (standardDeviation,))])\n",
    "\n",
    "trainingData = FashionMNIST(root='data', download=False, train=True, transform=transform)\n",
    "trainLoader = DataLoader(trainingData, batch_size=1024, num_workers=10, shuffle=True)\n",
    "\n",
    "testingData = FashionMNIST(root='data', download=False, train=False, transform=transform)\n",
    "testLoader = DataLoader(trainingData, batch_size=1024, num_workers=10, shuffle=False)"
   ]
  },
  {
   "cell_type": "code",
   "execution_count": 17,
   "id": "1af9ff59",
   "metadata": {},
   "outputs": [],
   "source": [
    "softmaxRegressionModel = nn.Sequential(\n",
    "    nn.Flatten(),\n",
    "    nn.Linear(in_features=784, out_features=10)\n",
    ")\n",
    "softmaxRegressionModel = softmaxRegressionModel.to(device)"
   ]
  },
  {
   "cell_type": "code",
   "execution_count": 18,
   "id": "266bf74d",
   "metadata": {},
   "outputs": [],
   "source": [
    "criterion = nn.CrossEntropyLoss()\n",
    "optimizer = optim.SGD(softmaxRegressionModel.parameters(), lr=0.01)"
   ]
  },
  {
   "cell_type": "code",
   "execution_count": 19,
   "id": "f79af6df",
   "metadata": {},
   "outputs": [
    {
     "name": "stdout",
     "output_type": "stream",
     "text": [
      "Epoch 1/50, Accuracy: 66.35, Loss: 1.1120, Accuracy: 74.22, Loss: 0.8123\n",
      "Epoch 2/50, Accuracy: 75.84, Loss: 0.7459, Accuracy: 77.06, Loss: 0.6947\n",
      "Epoch 3/50, Accuracy: 77.86, Loss: 0.6664, Accuracy: 78.56, Loss: 0.6404\n",
      "Epoch 4/50, Accuracy: 79.01, Loss: 0.6236, Accuracy: 79.63, Loss: 0.6071\n",
      "Epoch 5/50, Accuracy: 79.93, Loss: 0.5957, Accuracy: 80.25, Loss: 0.5840\n",
      "Epoch 6/50, Accuracy: 80.51, Loss: 0.5757, Accuracy: 80.81, Loss: 0.5664\n",
      "Epoch 7/50, Accuracy: 80.97, Loss: 0.5598, Accuracy: 81.18, Loss: 0.5532\n",
      "Epoch 8/50, Accuracy: 81.44, Loss: 0.5476, Accuracy: 81.58, Loss: 0.5415\n",
      "Epoch 9/50, Accuracy: 81.73, Loss: 0.5371, Accuracy: 81.94, Loss: 0.5324\n",
      "Epoch 10/50, Accuracy: 81.96, Loss: 0.5288, Accuracy: 82.09, Loss: 0.5243\n",
      "Epoch 11/50, Accuracy: 82.19, Loss: 0.5216, Accuracy: 82.36, Loss: 0.5173\n",
      "Epoch 12/50, Accuracy: 82.51, Loss: 0.5149, Accuracy: 82.54, Loss: 0.5112\n",
      "Epoch 13/50, Accuracy: 82.66, Loss: 0.5096, Accuracy: 82.70, Loss: 0.5060\n",
      "Epoch 14/50, Accuracy: 82.84, Loss: 0.5047, Accuracy: 82.93, Loss: 0.5012\n",
      "Epoch 15/50, Accuracy: 82.98, Loss: 0.5001, Accuracy: 82.99, Loss: 0.4977\n",
      "Epoch 16/50, Accuracy: 83.11, Loss: 0.4955, Accuracy: 83.24, Loss: 0.4930\n",
      "Epoch 17/50, Accuracy: 83.31, Loss: 0.4920, Accuracy: 83.37, Loss: 0.4893\n",
      "Epoch 18/50, Accuracy: 83.37, Loss: 0.4880, Accuracy: 83.39, Loss: 0.4864\n",
      "Epoch 19/50, Accuracy: 83.52, Loss: 0.4848, Accuracy: 83.56, Loss: 0.4833\n",
      "Epoch 20/50, Accuracy: 83.58, Loss: 0.4823, Accuracy: 83.63, Loss: 0.4802\n",
      "Epoch 21/50, Accuracy: 83.67, Loss: 0.4800, Accuracy: 83.75, Loss: 0.4775\n",
      "Epoch 22/50, Accuracy: 83.75, Loss: 0.4771, Accuracy: 83.72, Loss: 0.4760\n",
      "Epoch 23/50, Accuracy: 83.87, Loss: 0.4751, Accuracy: 83.91, Loss: 0.4728\n",
      "Epoch 24/50, Accuracy: 83.97, Loss: 0.4719, Accuracy: 84.00, Loss: 0.4705\n",
      "Epoch 25/50, Accuracy: 83.96, Loss: 0.4697, Accuracy: 83.95, Loss: 0.4686\n",
      "Epoch 26/50, Accuracy: 84.04, Loss: 0.4679, Accuracy: 84.10, Loss: 0.4663\n",
      "Epoch 27/50, Accuracy: 84.13, Loss: 0.4665, Accuracy: 84.14, Loss: 0.4651\n",
      "Epoch 28/50, Accuracy: 84.14, Loss: 0.4649, Accuracy: 84.18, Loss: 0.4629\n",
      "Epoch 29/50, Accuracy: 84.19, Loss: 0.4630, Accuracy: 84.26, Loss: 0.4612\n",
      "Epoch 30/50, Accuracy: 84.27, Loss: 0.4612, Accuracy: 84.32, Loss: 0.4593\n",
      "Epoch 31/50, Accuracy: 84.34, Loss: 0.4596, Accuracy: 84.37, Loss: 0.4584\n",
      "Epoch 32/50, Accuracy: 84.36, Loss: 0.4583, Accuracy: 84.40, Loss: 0.4564\n",
      "Epoch 33/50, Accuracy: 84.41, Loss: 0.4565, Accuracy: 84.43, Loss: 0.4552\n",
      "Epoch 34/50, Accuracy: 84.46, Loss: 0.4551, Accuracy: 84.47, Loss: 0.4536\n",
      "Epoch 35/50, Accuracy: 84.53, Loss: 0.4542, Accuracy: 84.55, Loss: 0.4524\n",
      "Epoch 36/50, Accuracy: 84.55, Loss: 0.4522, Accuracy: 84.59, Loss: 0.4512\n",
      "Epoch 37/50, Accuracy: 84.55, Loss: 0.4515, Accuracy: 84.63, Loss: 0.4501\n",
      "Epoch 38/50, Accuracy: 84.66, Loss: 0.4503, Accuracy: 84.62, Loss: 0.4490\n",
      "Epoch 39/50, Accuracy: 84.61, Loss: 0.4489, Accuracy: 84.65, Loss: 0.4481\n",
      "Epoch 40/50, Accuracy: 84.72, Loss: 0.4481, Accuracy: 84.79, Loss: 0.4466\n",
      "Epoch 41/50, Accuracy: 84.73, Loss: 0.4470, Accuracy: 84.78, Loss: 0.4459\n",
      "Epoch 42/50, Accuracy: 84.78, Loss: 0.4457, Accuracy: 84.85, Loss: 0.4447\n",
      "Epoch 43/50, Accuracy: 84.82, Loss: 0.4448, Accuracy: 84.90, Loss: 0.4437\n",
      "Epoch 44/50, Accuracy: 84.84, Loss: 0.4441, Accuracy: 84.78, Loss: 0.4437\n",
      "Epoch 45/50, Accuracy: 84.90, Loss: 0.4431, Accuracy: 84.86, Loss: 0.4421\n",
      "Epoch 46/50, Accuracy: 84.93, Loss: 0.4421, Accuracy: 84.92, Loss: 0.4411\n",
      "Epoch 47/50, Accuracy: 84.98, Loss: 0.4413, Accuracy: 84.95, Loss: 0.4401\n",
      "Epoch 48/50, Accuracy: 84.95, Loss: 0.4403, Accuracy: 84.95, Loss: 0.4394\n",
      "Epoch 49/50, Accuracy: 84.98, Loss: 0.4397, Accuracy: 85.05, Loss: 0.4384\n",
      "Epoch 50/50, Accuracy: 85.03, Loss: 0.4388, Accuracy: 85.01, Loss: 0.4379\n"
     ]
    }
   ],
   "source": [
    "trainAccuracies, trainLosses, testAccuracies, testLosses = trainModel(numberOfEpochs=50, trainLoader = trainLoader, \n",
    "                                                                    testLoader = testLoader, criterion=criterion, \n",
    "                                                                    optimizer=optimizer, model=softmaxRegressionModel, device=device)"
   ]
  },
  {
   "cell_type": "code",
   "execution_count": 20,
   "id": "718e4131",
   "metadata": {},
   "outputs": [
    {
     "data": {
      "image/png": "[encoded data removed]",
      "text/plain": [
       "<Figure size 640x480 with 2 Axes>"
      ]
     },
     "metadata": {},
     "output_type": "display_data"
    }
   ],
   "source": [
    "fig, axes = plt.subplots(nrows=1, ncols=2)\n",
    "\n",
    "axes[0].plot(trainAccuracies, label=\"training\")\n",
    "axes[0].plot(testAccuracies, label=\"testing\")\n",
    "\n",
    "axes[1].plot(trainLosses, label=\"training\")\n",
    "axes[1].plot(testLosses, label=\"testing\")\n",
    "\n",
    "plt.legend()\n",
    "plt.show()"
   ]
  },
  {
   "cell_type": "markdown",
   "id": "3ec1a2c9",
   "metadata": {},
   "source": [
    "### Fashion MNIST - Normalization - MLP"
   ]
  },
  {
   "cell_type": "code",
   "execution_count": 2,
   "id": "8088bfaf",
   "metadata": {},
   "outputs": [],
   "source": [
    "transform = transforms.Compose([transforms.ToTensor(), \n",
    "                                transforms.Normalize((0.0,), (1.0,))])\n",
    "\n",
    "trainingData = FashionMNIST(root='data', download=False, train=True, transform=transform)\n",
    "trainLoader = DataLoader(trainingData, batch_size=1024, num_workers=10, shuffle=True)\n",
    "\n",
    "testingData = FashionMNIST(root='data', download=False, train=False, transform=transform)\n",
    "testLoader = DataLoader(testingData, batch_size=1024, num_workers=10, shuffle=False)"
   ]
  },
  {
   "cell_type": "code",
   "execution_count": 12,
   "id": "a64af0ac",
   "metadata": {},
   "outputs": [],
   "source": [
    "MLP = nn.Sequential(\n",
    "    nn.Flatten(), nn.Linear(784, 512),\n",
    "    nn.ReLU(), nn.Linear(512, 256),\n",
    "    nn.ReLU(), nn.Linear(256, 10)\n",
    ")\n",
    "MLP = MLP.to(device)"
   ]
  },
  {
   "cell_type": "code",
   "execution_count": 4,
   "id": "7457fc73",
   "metadata": {},
   "outputs": [
    {
     "name": "stdout",
     "output_type": "stream",
     "text": [
      "Sequential(\n",
      "  (0): Flatten(start_dim=1, end_dim=-1)\n",
      "  (1): Linear(in_features=784, out_features=512, bias=True)\n",
      "  (2): ReLU()\n",
      "  (3): Linear(in_features=512, out_features=256, bias=True)\n",
      "  (4): ReLU()\n",
      "  (5): Linear(in_features=256, out_features=10, bias=True)\n",
      ")\n"
     ]
    }
   ],
   "source": [
    "print(MLP)"
   ]
  },
  {
   "cell_type": "code",
   "execution_count": 13,
   "id": "5c24d7aa",
   "metadata": {},
   "outputs": [],
   "source": [
    "criterion = nn.CrossEntropyLoss()\n",
    "optimizer = optim.SGD(MLP.parameters(), lr=0.01)"
   ]
  },
  {
   "cell_type": "code",
   "execution_count": 14,
   "id": "9dc739d7",
   "metadata": {},
   "outputs": [
    {
     "name": "stdout",
     "output_type": "stream",
     "text": [
      "Epoch 1/20, Accuracy: 20.82, Loss: 2.2661, Accuracy: 38.30, Loss: 2.2278\n",
      "Epoch 2/20, Accuracy: 43.50, Loss: 2.1825, Accuracy: 48.59, Loss: 2.1288\n",
      "Epoch 3/20, Accuracy: 52.44, Loss: 2.0578, Accuracy: 55.08, Loss: 1.9753\n",
      "Epoch 4/20, Accuracy: 57.34, Loss: 1.8723, Accuracy: 58.08, Loss: 1.7620\n",
      "Epoch 5/20, Accuracy: 59.28, Loss: 1.6475, Accuracy: 61.24, Loss: 1.5400\n",
      "Epoch 6/20, Accuracy: 61.53, Loss: 1.4433, Accuracy: 62.27, Loss: 1.3608\n",
      "Epoch 7/20, Accuracy: 63.08, Loss: 1.2864, Accuracy: 62.32, Loss: 1.2282\n",
      "Epoch 8/20, Accuracy: 63.87, Loss: 1.1700, Accuracy: 63.40, Loss: 1.1299\n",
      "Epoch 9/20, Accuracy: 64.88, Loss: 1.0829, Accuracy: 64.39, Loss: 1.0553\n",
      "Epoch 10/20, Accuracy: 65.81, Loss: 1.0158, Accuracy: 64.53, Loss: 0.9973\n",
      "Epoch 11/20, Accuracy: 66.73, Loss: 0.9622, Accuracy: 65.39, Loss: 0.9504\n",
      "Epoch 12/20, Accuracy: 67.43, Loss: 0.9189, Accuracy: 66.51, Loss: 0.9121\n",
      "Epoch 13/20, Accuracy: 68.11, Loss: 0.8829, Accuracy: 67.10, Loss: 0.8804\n",
      "Epoch 14/20, Accuracy: 68.81, Loss: 0.8528, Accuracy: 67.37, Loss: 0.8533\n",
      "Epoch 15/20, Accuracy: 69.34, Loss: 0.8269, Accuracy: 68.43, Loss: 0.8304\n",
      "Epoch 16/20, Accuracy: 69.97, Loss: 0.8045, Accuracy: 68.95, Loss: 0.8101\n",
      "Epoch 17/20, Accuracy: 70.60, Loss: 0.7854, Accuracy: 69.79, Loss: 0.7921\n",
      "Epoch 18/20, Accuracy: 71.33, Loss: 0.7685, Accuracy: 70.58, Loss: 0.7764\n",
      "Epoch 19/20, Accuracy: 72.15, Loss: 0.7524, Accuracy: 71.69, Loss: 0.7618\n",
      "Epoch 20/20, Accuracy: 72.95, Loss: 0.7382, Accuracy: 72.63, Loss: 0.7490\n"
     ]
    }
   ],
   "source": [
    "trainAccuracies, trainLosses, testAccuracies, testLosses = trainModel(numberOfEpochs=20, trainLoader=trainLoader, testLoader=testLoader,\n",
    "                                                                      criterion=criterion, optimizer=optimizer, model=MLP, device=device)"
   ]
  },
  {
   "cell_type": "code",
   "execution_count": 15,
   "id": "556c6601",
   "metadata": {},
   "outputs": [
    {
     "data": {
      "image/png": "[encoded data removed]",
      "text/plain": [
       "<Figure size 640x480 with 2 Axes>"
      ]
     },
     "metadata": {},
     "output_type": "display_data"
    }
   ],
   "source": [
    "fig, axes = plt.subplots(nrows=1, ncols=2)\n",
    "\n",
    "axes[0].plot(trainAccuracies, label=\"training\")\n",
    "axes[0].plot(testAccuracies, label=\"testing\")\n",
    "\n",
    "axes[1].plot(trainLosses, label=\"training\")\n",
    "axes[1].plot(testLosses, label=\"testing\")\n",
    "\n",
    "plt.legend()\n",
    "plt.show()"
   ]
  }
 ],
 "metadata": {
  "kernelspec": {
   "display_name": "AIVN",
   "language": "python",
   "name": "python3"
  },
  "language_info": {
   "codemirror_mode": {
    "name": "ipython",
    "version": 3
   },
   "file_extension": ".py",
   "mimetype": "text/x-python",
   "name": "python",
   "nbconvert_exporter": "python",
   "pygments_lexer": "ipython3",
   "version": "3.13.2"
  }
 },
 "nbformat": 4,
 "nbformat_minor": 5
}
