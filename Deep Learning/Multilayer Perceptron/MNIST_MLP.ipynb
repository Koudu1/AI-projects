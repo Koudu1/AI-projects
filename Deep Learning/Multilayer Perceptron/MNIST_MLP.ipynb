{
 "cells": [
  {
   "cell_type": "code",
   "execution_count": 28,
   "id": "1044dade",
   "metadata": {},
   "outputs": [
    {
     "data": {
      "text/plain": [
       "device(type='cuda', index=0)"
      ]
     },
     "execution_count": 28,
     "metadata": {},
     "output_type": "execute_result"
    }
   ],
   "source": [
    "# Import necessary libraries\n",
    "from torchvision.datasets import MNIST  # Import dataset\n",
    "from torch.utils.data import DataLoader     # Import loader for dataset (data - spliter)\n",
    "import torchvision.transforms as transforms\n",
    "import torch\n",
    "import torch.nn as nn\n",
    "import torch.optim as optim \n",
    "import matplotlib.pyplot as plt \n",
    "\n",
    "# Declare the device to execute the task (gpu - cuda, cpu - cpu)\n",
    "device = torch.device(\"cuda:0\" if torch.cuda.is_available() else \"cpu\")\n",
    "device"
   ]
  },
  {
   "cell_type": "markdown",
   "id": "ac372308",
   "metadata": {},
   "source": [
    "### Download the MNIST dataset"
   ]
  },
  {
   "cell_type": "code",
   "execution_count": 3,
   "id": "ef36b8b0",
   "metadata": {},
   "outputs": [
    {
     "name": "stderr",
     "output_type": "stream",
     "text": [
      "100.0%\n",
      "100.0%\n",
      "100.0%\n",
      "100.0%\n"
     ]
    }
   ],
   "source": [
    "trainingData = MNIST(root='data',\n",
    "                     train=True,\n",
    "                     download=True)\n",
    "\n",
    "testingData = MNIST(root='data',\n",
    "                    train=False,\n",
    "                    download=True)"
   ]
  },
  {
   "cell_type": "markdown",
   "id": "9548f9c9",
   "metadata": {},
   "source": [
    "### MNIST - No Normalization - Softmax Regression"
   ]
  },
  {
   "cell_type": "code",
   "execution_count": null,
   "id": "efe78667",
   "metadata": {},
   "outputs": [],
   "source": [
    "transform = transforms.Compose([transforms.ToTensor(),\n",
    "                                 transforms.Normalize((0.0, ), (1.0/255, ))])\n",
    "\n",
    "trainingData = MNIST(root='data', train=True, download=False, transform=transform)\n",
    "trainLoader = DataLoader(trainingData, batch_size=1024, shuffle=True, num_workers=10)\n",
    "\n",
    "testingData = MNIST(root='data', train=False, download=False, transform=transform)\n",
    "testLoader = DataLoader(trainingData, batch_size=1024, shuffle=True, num_workers=10)"
   ]
  },
  {
   "cell_type": "code",
   "execution_count": 22,
   "id": "26b0da5a",
   "metadata": {},
   "outputs": [
    {
     "name": "stdout",
     "output_type": "stream",
     "text": [
      "Sequential(\n",
      "  (0): Flatten(start_dim=1, end_dim=-1)\n",
      "  (1): Linear(in_features=784, out_features=10, bias=True)\n",
      ")\n"
     ]
    }
   ],
   "source": [
    "softmaxRegressionModel = nn.Sequential(\n",
    "    nn.Flatten(),\n",
    "    nn.Linear(in_features=784, out_features=10)\n",
    ")\n",
    "\n",
    "softmaxRegressionModel = softmaxRegressionModel.to(device)\n",
    "print(softmaxRegressionModel)"
   ]
  },
  {
   "cell_type": "code",
   "execution_count": 23,
   "id": "9792630c",
   "metadata": {},
   "outputs": [],
   "source": [
    "criterion = nn.CrossEntropyLoss()\n",
    "optimizer = optim.SGD(softmaxRegressionModel.parameters(), lr=1e-4)"
   ]
  },
  {
   "cell_type": "code",
   "execution_count": 24,
   "id": "8f83f161",
   "metadata": {},
   "outputs": [],
   "source": [
    "def evaluateModel(model, testLoader, criterion):\n",
    "    model.eval()\n",
    "    testLoss = 0.0\n",
    "    correct = 0\n",
    "    total = 0\n",
    "    with torch.no_grad():\n",
    "\n",
    "        for images, labels in testLoader:\n",
    "            images, labels = images.to(device), labels.to(device)\n",
    "\n",
    "            outputs = model(images)\n",
    "            loss = criterion(outputs, labels)\n",
    "            testLoss += loss.item()\n",
    "\n",
    "            _, predicted = torch.max(outputs.data, dim=1)\n",
    "            correct += (predicted == labels).sum().item()\n",
    "            total += labels.size(0)\n",
    "\n",
    "    accuracy = 100 * correct / total\n",
    "    testLoss = testLoss / len(testLoader)\n",
    "    return accuracy, testLoss "
   ]
  },
  {
   "cell_type": "code",
   "execution_count": 40,
   "id": "e1f2e349",
   "metadata": {},
   "outputs": [],
   "source": [
    "def trainModel(numberOfEpochs, trainLoader, testLoader, criterion, optimizer, model, device):\n",
    "    trainLosses = []\n",
    "    trainAccuracies = []\n",
    "    testLosses = []\n",
    "    testAccuracies = []\n",
    "\n",
    "    for epoch in range(numberOfEpochs):\n",
    "        \n",
    "        trainLoss = 0.0\n",
    "        correct = 0\n",
    "        total = 0\n",
    "\n",
    "        for i, (inputs, labels) in enumerate(trainLoader, 0):\n",
    "\n",
    "            inputs, labels = inputs.to(device), labels.to(device)\n",
    "            optimizer.zero_grad()\n",
    "\n",
    "            outputs = model(inputs)\n",
    "            loss = criterion(outputs, labels)\n",
    "            trainLoss += loss.item()\n",
    "\n",
    "            _, predicted = torch.max(outputs.data, dim=1)\n",
    "            correct += (predicted == labels).sum().item()\n",
    "            total += labels.size(0)\n",
    "\n",
    "            loss.backward()\n",
    "            optimizer.step()\n",
    "        \n",
    "        trainAccuracy = 100 * correct / total\n",
    "        trainLoss = trainLoss / (i+1)\n",
    "        testAccuracy, testLoss = evaluateModel(softmaxRegressionModel, testLoader, criterion)\n",
    "        print(f\"Epoch {epoch+1}/{numberOfEpochs}, Accuracy: {trainAccuracy:.2f}, Loss: {trainLoss:.4f}, Accuracy: {testAccuracy:.2f}, Loss: {testLoss:.4f}\")\n",
    "    \n",
    "        trainAccuracies.append(trainAccuracy)\n",
    "        trainLosses.append(trainLoss)\n",
    "        testAccuracies.append(testAccuracy)\n",
    "        testLosses.append(testLoss)\n",
    "\n",
    "    return trainAccuracies, trainLoss, testAccuracies, testLosses\n"
   ]
  },
  {
   "cell_type": "code",
   "execution_count": null,
   "id": "1d69701a",
   "metadata": {},
   "outputs": [
    {
     "ename": "TypeError",
     "evalue": "trainModel() got an unexpected keyword argument 'device'",
     "output_type": "error",
     "traceback": [
      "\u001b[31m---------------------------------------------------------------------------\u001b[39m",
      "\u001b[31mTypeError\u001b[39m                                 Traceback (most recent call last)",
      "\u001b[36mCell\u001b[39m\u001b[36m \u001b[39m\u001b[32mIn[32]\u001b[39m\u001b[32m, line 1\u001b[39m\n\u001b[32m----> \u001b[39m\u001b[32m1\u001b[39m trainAccuracies, trainLoss, testAccuracies, testLosses = \u001b[43mtrainModel\u001b[49m\u001b[43m(\u001b[49m\u001b[43mnumberOfEpochs\u001b[49m\u001b[43m=\u001b[49m\u001b[32;43m20\u001b[39;49m\u001b[43m,\u001b[49m\u001b[43m \u001b[49m\u001b[43mtrainLoader\u001b[49m\u001b[43m \u001b[49m\u001b[43m=\u001b[49m\u001b[43m \u001b[49m\u001b[43mtrainLoader\u001b[49m\u001b[43m,\u001b[49m\u001b[43m \u001b[49m\u001b[43mtestLoader\u001b[49m\u001b[43m \u001b[49m\u001b[43m=\u001b[49m\u001b[43m \u001b[49m\u001b[43mtestLoader\u001b[49m\u001b[43m,\u001b[49m\n\u001b[32m      2\u001b[39m \u001b[43m                                                                    \u001b[49m\u001b[43mcriterion\u001b[49m\u001b[43m=\u001b[49m\u001b[43mcriterion\u001b[49m\u001b[43m,\u001b[49m\u001b[43m \u001b[49m\u001b[43mmodel\u001b[49m\u001b[43m=\u001b[49m\u001b[43msoftmaxRegressionModel\u001b[49m\u001b[43m,\u001b[49m\u001b[43m \u001b[49m\u001b[43mdevice\u001b[49m\u001b[43m=\u001b[49m\u001b[43mdevice\u001b[49m\u001b[43m)\u001b[49m\n",
      "\u001b[31mTypeError\u001b[39m: trainModel() got an unexpected keyword argument 'device'"
     ]
    }
   ],
   "source": [
    "trainAccuracies, trainLoss, testAccuracies, testLosses = trainModel(numberOfEpochs=20, trainLoader = trainLoader, testLoader = testLoader,\n",
    "                                                                    criterion=criterion, optimizer=optimizer, model=softmaxRegressionModel, device=device)"
   ]
  },
  {
   "cell_type": "code",
   "execution_count": 26,
   "id": "0851a3d8",
   "metadata": {},
   "outputs": [
    {
     "data": {
      "image/png": "[encoded data removed]",
      "text/plain": [
       "<Figure size 640x480 with 1 Axes>"
      ]
     },
     "metadata": {},
     "output_type": "display_data"
    }
   ],
   "source": [
    "plt.plot(trainAccuracies, label='Training')\n",
    "plt.plot(testAccuracies, label='Testing')\n",
    "plt.legend()\n",
    "plt.show()"
   ]
  },
  {
   "cell_type": "markdown",
   "id": "7d9fca9a",
   "metadata": {},
   "source": [
    "### MNIST - Norminalisation - Softmax Regression"
   ]
  },
  {
   "cell_type": "code",
   "execution_count": 31,
   "id": "80a23568",
   "metadata": {},
   "outputs": [],
   "source": [
    "transform = transforms.Compose([transforms.ToTensor(),\n",
    "                                transforms.Normalize((0,), (1.0,))])\n",
    "\n",
    "trainingData = MNIST(root='data', download=False, train=True, transform=transform)\n",
    "trainLoader = DataLoader(trainingData, batch_size=1024, num_workers=10, shuffle=True)\n",
    "\n",
    "testingData = MNIST(root='data', download=False, train=False, transform=transform)\n",
    "testLoader = DataLoader(testingData, batch_size=1024, num_workers=10, shuffle=False)"
   ]
  },
  {
   "cell_type": "code",
   "execution_count": 34,
   "id": "1af9ff59",
   "metadata": {},
   "outputs": [],
   "source": [
    "softmaxRegressionModel = nn.Sequential(\n",
    "    nn.Flatten(),\n",
    "    nn.Linear(in_features=784, out_features=10)\n",
    ")\n",
    "softmaxRegressionModel = softmaxRegressionModel.to(device)"
   ]
  },
  {
   "cell_type": "code",
   "execution_count": 35,
   "id": "266bf74d",
   "metadata": {},
   "outputs": [],
   "source": [
    "criterion = nn.CrossEntropyLoss()\n",
    "optimizer = optim.SGD(softmaxRegressionModel.parameters(), lr=1e-4)"
   ]
  },
  {
   "cell_type": "code",
   "execution_count": null,
   "id": "f79af6df",
   "metadata": {},
   "outputs": [
    {
     "name": "stdout",
     "output_type": "stream",
     "text": [
      "Epoch 1/20, Accuracy: 6.75, Loss: 2.3338, Accuracy: 6.82, Loss: 2.3305\n",
      "Epoch 2/20, Accuracy: 7.21, Loss: 2.3271, Accuracy: 7.31, Loss: 2.3237\n",
      "Epoch 3/20, Accuracy: 7.71, Loss: 2.3206, Accuracy: 7.79, Loss: 2.3170\n",
      "Epoch 4/20, Accuracy: 8.23, Loss: 2.3140, Accuracy: 8.27, Loss: 2.3103\n",
      "Epoch 5/20, Accuracy: 8.75, Loss: 2.3074, Accuracy: 8.67, Loss: 2.3037\n",
      "Epoch 6/20, Accuracy: 9.32, Loss: 2.3009, Accuracy: 9.27, Loss: 2.2970\n",
      "Epoch 7/20, Accuracy: 9.93, Loss: 2.2945, Accuracy: 9.75, Loss: 2.2905\n",
      "Epoch 8/20, Accuracy: 10.50, Loss: 2.2881, Accuracy: 10.48, Loss: 2.2839\n",
      "Epoch 9/20, Accuracy: 11.18, Loss: 2.2816, Accuracy: 11.16, Loss: 2.2775\n",
      "Epoch 10/20, Accuracy: 11.79, Loss: 2.2754, Accuracy: 11.77, Loss: 2.2710\n",
      "Epoch 11/20, Accuracy: 12.52, Loss: 2.2690, Accuracy: 12.40, Loss: 2.2646\n"
     ]
    }
   ],
   "source": [
    "trainAccuracies, trainLoss, testAccuracies, testLosses = trainModel(numberOfEpochs=20, trainLoader = trainLoader, testLoader = testLoader,\n",
    "                                                                    criterion=criterion, optimizer=optimizer, model=softmaxRegressionModel, device=device)"
   ]
  }
 ],
 "metadata": {
  "kernelspec": {
   "display_name": "AIVN",
   "language": "python",
   "name": "python3"
  },
  "language_info": {
   "codemirror_mode": {
    "name": "ipython",
    "version": 3
   },
   "file_extension": ".py",
   "mimetype": "text/x-python",
   "name": "python",
   "nbconvert_exporter": "python",
   "pygments_lexer": "ipython3",
   "version": "3.13.2"
  }
 },
 "nbformat": 4,
 "nbformat_minor": 5
}
