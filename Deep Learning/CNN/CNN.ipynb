{
 "cells": [
  {
   "cell_type": "markdown",
   "id": "7a221f84",
   "metadata": {},
   "source": [
    "### Convolutional Neural Networks"
   ]
  },
  {
   "cell_type": "code",
   "execution_count": 6,
   "id": "42e5934c",
   "metadata": {},
   "outputs": [],
   "source": [
    "import torch\n",
    "import torchvision\n",
    "from torchsummary import summary"
   ]
  },
  {
   "cell_type": "code",
   "execution_count": 32,
   "id": "236f8f3f",
   "metadata": {},
   "outputs": [
    {
     "name": "stdout",
     "output_type": "stream",
     "text": [
      "==========================================================================================\n",
      "Layer (type:depth-idx)                   Output Shape              Param #\n",
      "==========================================================================================\n",
      "├─Conv2d: 1-1                            [-1, 6, 28, 28]           156\n",
      "├─AvgPool2d: 1-2                         [-1, 6, 14, 14]           --\n",
      "├─Conv2d: 1-3                            [-1, 16, 10, 10]          2,416\n",
      "├─AvgPool2d: 1-4                         [-1, 16, 5, 5]            --\n",
      "├─Conv2d: 1-5                            [-1, 120, 1, 1]           48,120\n",
      "├─Linear: 1-6                            [-1, 84]                  10,164\n",
      "├─Linear: 1-7                            [-1, 10]                  850\n",
      "==========================================================================================\n",
      "Total params: 61,706\n",
      "Trainable params: 61,706\n",
      "Non-trainable params: 0\n",
      "Total mult-adds (M): 0.42\n",
      "==========================================================================================\n",
      "Input size (MB): 0.00\n",
      "Forward/backward pass size (MB): 0.05\n",
      "Params size (MB): 0.24\n",
      "Estimated Total Size (MB): 0.29\n",
      "==========================================================================================\n",
      "==========================================================================================\n",
      "Layer (type:depth-idx)                   Output Shape              Param #\n",
      "==========================================================================================\n",
      "├─Conv2d: 1-1                            [-1, 6, 28, 28]           156\n",
      "├─AvgPool2d: 1-2                         [-1, 6, 14, 14]           --\n",
      "├─Conv2d: 1-3                            [-1, 16, 10, 10]          2,416\n",
      "├─AvgPool2d: 1-4                         [-1, 16, 5, 5]            --\n",
      "├─Conv2d: 1-5                            [-1, 120, 1, 1]           48,120\n",
      "├─Linear: 1-6                            [-1, 84]                  10,164\n",
      "├─Linear: 1-7                            [-1, 10]                  850\n",
      "==========================================================================================\n",
      "Total params: 61,706\n",
      "Trainable params: 61,706\n",
      "Non-trainable params: 0\n",
      "Total mult-adds (M): 0.42\n",
      "==========================================================================================\n",
      "Input size (MB): 0.00\n",
      "Forward/backward pass size (MB): 0.05\n",
      "Params size (MB): 0.24\n",
      "Estimated Total Size (MB): 0.29\n",
      "==========================================================================================\n"
     ]
    }
   ],
   "source": [
    "class LeNet(torch.nn.Module):\n",
    "\n",
    "    def __init__(self):\n",
    "        super().__init__()\n",
    "        self.ConvLayer1 = torch.nn.Conv2d(in_channels=1, out_channels=6, kernel_size=5)\n",
    "        self.PoolLayer = torch.nn.AvgPool2d(kernel_size=2)\n",
    "        self.ConvLayer2 = torch.nn.Conv2d(in_channels=6, out_channels=16, kernel_size=5)\n",
    "        self.ConvLayer3 = torch.nn.Conv2d(in_channels=16, out_channels=120, kernel_size=5)\n",
    "        self.Linear1 = torch.nn.Linear(in_features=120, out_features=84)\n",
    "        self.Linear2 = torch.nn.Linear(in_features=84, out_features=10)\n",
    "    \n",
    "    def forward(self, x):\n",
    "        x = torch.nn.functional.tanh(self.ConvLayer1(x))\n",
    "        x = self.PoolLayer(x)\n",
    "        x = torch.nn.functional.tanh(self.ConvLayer2(x))\n",
    "        x = self.PoolLayer(x)\n",
    "        x = torch.nn.functional.tanh(self.ConvLayer3(x))\n",
    "        x = torch.nn.Flatten()(x)\n",
    "        x = self.Linear1(x)\n",
    "        x = torch.nn.functional.tanh(x)\n",
    "        outputs = self.Linear2(x)\n",
    "\n",
    "        return outputs\n",
    "    \n",
    "lenet = LeNet()\n",
    "print(summary(lenet, (1, 32, 32)))"
   ]
  },
  {
   "cell_type": "code",
   "execution_count": null,
   "id": "41cc6279",
   "metadata": {},
   "outputs": [],
   "source": [
    "criterion = torch.nn.CrossEntropyLoss()\n",
    "optimizer = torch.optim.SGD(lenet.parameters(), lr=0.01)"
   ]
  }
 ],
 "metadata": {
  "kernelspec": {
   "display_name": "AIVN",
   "language": "python",
   "name": "python3"
  },
  "language_info": {
   "codemirror_mode": {
    "name": "ipython",
    "version": 3
   },
   "file_extension": ".py",
   "mimetype": "text/x-python",
   "name": "python",
   "nbconvert_exporter": "python",
   "pygments_lexer": "ipython3",
   "version": "3.13.2"
  }
 },
 "nbformat": 4,
 "nbformat_minor": 5
}
