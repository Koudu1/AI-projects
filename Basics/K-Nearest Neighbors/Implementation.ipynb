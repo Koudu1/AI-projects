{
 "cells": [
  {
   "cell_type": "markdown",
   "id": "c466734f",
   "metadata": {},
   "source": [
    "## Implementation of K Nearest Neighbors"
   ]
  },
  {
   "cell_type": "markdown",
   "id": "30249bfa",
   "metadata": {},
   "source": [
    "Bài toán: KNN là một thuật toán học có giám sát (học trên bộ dữ liệu đã được gán nhãn), thường được áp dụng trong bài toán phân loại (**classification**) dựa trên ý tưởng rằng phân hiện tượng sang từng nhóm riêng biệt sẽ dựa vào **khoảng cách của nó với các điểm dữ liệu xung quanh nó**. Hay nói cách khác, hiện tượng **gần** với tập hiện tượng loại nào nhiều hơn thì sẽ thuộc về loại đó.\n",
    "\n",
    "Như vậy, những yếu tố cần được xem xét trong thuật toán này:\n",
    "- Định nghĩa khoảng cách giữa các hiện tượng (Euclidean distance, Manhattan distance, ...)\n",
    "- Định nghĩa phương thức lựa chọn hiện tượng (dựa theo số đông, ...)  \n",
    "\n",
    "Giả sử, ta có một ma trận **X** với mỗi dòng là một điểm dữ liệu, cột đại diện cho feature và một vector cột **y** đại diện cho nhóm mà điểm dữ liệu được phân vào _(có giá trị 0 và 1)_. Nhiệm vụ của chúng ta là phân loại một điểm dữ liệu đại diện bằng một vector **z** có cùng số feature như ma trận **X**"
   ]
  },
  {
   "cell_type": "code",
   "execution_count": 2,
   "id": "bd4537cf",
   "metadata": {},
   "outputs": [],
   "source": [
    "# Importing necessary libraries for implementation\n",
    "import numpy as np\n",
    "import matplotlib.pyplot as plt"
   ]
  },
  {
   "cell_type": "markdown",
   "id": "8169fa28",
   "metadata": {},
   "source": [
    "### Function to calculate the distances in KNN"
   ]
  },
  {
   "cell_type": "markdown",
   "id": "51e2ef5e",
   "metadata": {},
   "source": [
    "Euclidean Distance: \n",
    "$$\n",
    "    d(x, y) = \\sqrt {\\sum_{i = 1}^n {(x_i - y_i)^2}}\n",
    "$$"
   ]
  },
  {
   "cell_type": "code",
   "execution_count": 3,
   "id": "6d972419",
   "metadata": {},
   "outputs": [],
   "source": [
    "def euclideanDistance (X : np.ndarray , z : np.ndarray) -> np.ndarray:\n",
    "    \"\"\"\n",
    "    Functions: Calculate the Euclidean Distance between a data point and existing datasets\n",
    "\n",
    "    Args:\n",
    "        X (np.ndarray) : A matrix representing the dataset (each row is a record)\n",
    "        z (np.ndarray) : A data point\n",
    "\n",
    "    Returns:\n",
    "        np.ndarray : The distance vector of data point to each point of matrix \n",
    "    \"\"\"\n",
    "\n",
    "    try:\n",
    "        return np.sqrt(np.sum((z - X)**2, axis = 1))\n",
    "    except Value:\n",
    "        print(\"Wrong shape!\")\n",
    "        return None\n",
    "    "
   ]
  },
  {
   "cell_type": "markdown",
   "id": "34a9922d",
   "metadata": {},
   "source": [
    "Manhattan Distance:\n",
    "$$\n",
    "    d(x, y) = \\sum_{i = 1} ^n {|x_i - y_i|}\n",
    "$$"
   ]
  },
  {
   "cell_type": "code",
   "execution_count": 4,
   "id": "8a3191f0",
   "metadata": {},
   "outputs": [],
   "source": [
    "def manhattanDistance (X : np.ndarray , z : np.ndarray) -> np.ndarray:\n",
    "    \"\"\"\n",
    "    Functions: Calculate the Manhattan Distance between a data point and existing datasets\n",
    "\n",
    "    Args:\n",
    "        X (np.ndarray) : A matrix representing the dataset (each row is a record)\n",
    "        z (np.ndarray) : A data point\n",
    "\n",
    "    Returns:\n",
    "        np.ndarray : The distance vector of data point to each point of matrix \n",
    "    \"\"\"\n",
    "\n",
    "    try:\n",
    "        return np.sum(np.abs(z - X), axis = 1)\n",
    "    except Value:\n",
    "        print(\"Wrong shape!\")\n",
    "        return None"
   ]
  },
  {
   "cell_type": "markdown",
   "id": "51576c8a",
   "metadata": {},
   "source": [
    "### Function to execute the classification"
   ]
  },
  {
   "cell_type": "code",
   "execution_count": 5,
   "id": "bd43a6b2",
   "metadata": {},
   "outputs": [],
   "source": [
    "def classifyRecord(distance : np.ndarray, y : np.ndarray, k : int) -> int:\n",
    "    \"\"\"\n",
    "    Functions: Classify the data point based on its distances\n",
    "\n",
    "    Args:\n",
    "        distance (np.ndarray) : A vector representing the distance of the concerning record to other points in the dataset\n",
    "        y (np.ndarray) : A vector determining the class of each record in the datase\n",
    "        k (int) : Number of references for choice\n",
    "\n",
    "    Returns:\n",
    "        int : A prediction of the class to which the target record belongs \n",
    "    \"\"\"\n",
    "\n",
    "    indexOfKNearestNeighbors = np.argsort(distance)[:k]    # Identify an array of index of K smallest distances\n",
    "    numberOfPositives = (y[indexOfKNearestNeighbors] == 1).sum()    # Calculate the total number of nearest points of class 1\n",
    "    recordClass = 1 if (numberOfPositives > float(k/2)) else 0      # Voting to determine the class of the target record\n",
    "    return recordClass\n",
    " "
   ]
  },
  {
   "cell_type": "markdown",
   "id": "e09d3df1",
   "metadata": {},
   "source": [
    "## Examining in the real context"
   ]
  },
  {
   "cell_type": "code",
   "execution_count": 6,
   "id": "17340fe4",
   "metadata": {},
   "outputs": [
    {
     "name": "stdout",
     "output_type": "stream",
     "text": [
      "1\n"
     ]
    }
   ],
   "source": [
    "X = np.array([[1, 2], [3, 4], [2, 3], [5, 1]])\n",
    "y = np.array([1, 1, 0, 1])\n",
    "z = np.array([1, 2])\n",
    "\n",
    "distance = euclideanDistance(X, z)\n",
    "print(classifyRecord(distance, y, k = 3))"
   ]
  }
 ],
 "metadata": {
  "kernelspec": {
   "display_name": "AIVN",
   "language": "python",
   "name": "python3"
  },
  "language_info": {
   "codemirror_mode": {
    "name": "ipython",
    "version": 3
   },
   "file_extension": ".py",
   "mimetype": "text/x-python",
   "name": "python",
   "nbconvert_exporter": "python",
   "pygments_lexer": "ipython3",
   "version": "3.13.2"
  }
 },
 "nbformat": 4,
 "nbformat_minor": 5
}
