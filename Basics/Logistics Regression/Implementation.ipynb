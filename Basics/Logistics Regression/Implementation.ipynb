{
 "cells": [
  {
   "cell_type": "markdown",
   "id": "6e7788be",
   "metadata": {},
   "source": [
    "## Implementation of Logistic Regression"
   ]
  },
  {
   "cell_type": "markdown",
   "id": "3895f09f",
   "metadata": {},
   "source": [
    "Tổng quát : Logistic Regression là một thuật toán học có giám sát, thường được sử dụng trong bài toán phân loại (Classification). So với thuật toán KNN, Logistic Regression tiếp cận bài toán phân loại theo một hướng khác. Thay vì phân loại dựa trên độ gần của các điểm dữ liệu, nó chủ đích sử dụng các dữ liệu sẵn có để ước lượng ra một hàm toán học dựa trên các feature của dữ liệu từ đó cho phép nó thay đổi trọng số, cải thiện hàm mất mát và đưa ra quyết định tốt hơn.\n",
    "\n",
    "--> Logistic Regression chia sẻ ý tưởng với Linear Regression"
   ]
  },
  {
   "cell_type": "markdown",
   "id": "44b17cf2",
   "metadata": {},
   "source": [
    "Bài toán: Giả sử ta có tập hợp các điểm dữ liệu được mô tả bằng một ma trận **X** có kích thước **MxN** với **M** là số lượng điểm dữ liệu và N là số lượng feature và một vector **y** cho biết class tương ứng của mỗi điểm dữ liệu. Nhiệm vụ là hãy dự đoán class của một điểm dữ liệu khác chia sẻ những feature như điểm dữ liệu trong X đặc trưng bằng feature vecto **k**"
   ]
  },
  {
   "cell_type": "markdown",
   "id": "03caceb3",
   "metadata": {},
   "source": [
    "Những câu hỏi cần trả lời trong bài toán này:\n",
    "- Hàm số nào ta sử dụng để tổng hợp đặc trưng của dữ liệu vào một con số cụ thể\n",
    "- Hàm số nào ta có thể sử dụng để đưa ra kết quả phân loại\n",
    "- Đặc điểm của hàm số đó là như thế nào\n",
    "- Dạng hàm mất mát nào là phù hợp với bài toán phân loại này\n",
    "- Cách thức ta update các trọng số trong mô hình là gì"
   ]
  },
  {
   "cell_type": "code",
   "execution_count": 1,
   "id": "762bc99c",
   "metadata": {},
   "outputs": [],
   "source": [
    "#Import necessary libraries\n",
    "import numpy as np"
   ]
  },
  {
   "cell_type": "markdown",
   "id": "2742f3fd",
   "metadata": {},
   "source": [
    "### Hàm số sử dụng để tổng hợp đặc trưng"
   ]
  },
  {
   "cell_type": "markdown",
   "id": "153c5247",
   "metadata": {},
   "source": [
    "Trong bài toán này, ta sử dụng hàm số tuyến tính để tổng hợp đặc trưng từ dữ liệu vào một con số tổng hợp nhất định\n",
    "$$\n",
    "    f(x) = w_1*x_1 + ... + w_n*x_n + b\n",
    "$$"
   ]
  },
  {
   "cell_type": "code",
   "execution_count": 13,
   "id": "1f84dc68",
   "metadata": {},
   "outputs": [],
   "source": [
    "def linearFunction(w : np.ndarray, X : np.ndarray):\n",
    "    return np.dot(X, w)"
   ]
  },
  {
   "cell_type": "markdown",
   "id": "632343d4",
   "metadata": {},
   "source": [
    "### Hàm số sử dụng cho việc phân loại"
   ]
  },
  {
   "cell_type": "markdown",
   "id": "0c05651c",
   "metadata": {},
   "source": [
    "Dạng hàm số nào là phù hợp cho bài toán phân loại? Xem xét xem hàm số đó cần đáp ứng những điều kiện gì nào! \n",
    "\n",
    "Lý tưởng nhất, hàm số đó sẽ lấy vào giá trị liên tục (kết quả của hàm số tổng hợp ở trên) và cho ra một giá trị phân biệt class của điểm dữ liệu, tiện nhất chắc chắn là tỷ lệ % điểm dữ liệu đó thuộc về một class. Rồi sau đó sẽ lựa chọn dựa trên tỷ lệ % đó \n",
    "\n",
    "Trong thực tiễn, ta sử dụng một dạng hàm là sigmoid function:\n",
    "\n",
    "$$\n",
    "    f(x) = \\frac {1}{1 + e^{-x}}\n",
    "$$\n",
    "\n",
    "hoặc dạng hàm tanh function:\n",
    "\n",
    "$$\n",
    "    f(x) = \\tanh ({x}) = \\frac {e^x - e^{-x}} {e^x + e^{-x}}\n",
    "$$"
   ]
  },
  {
   "cell_type": "code",
   "execution_count": null,
   "id": "a20ddf13",
   "metadata": {},
   "outputs": [],
   "source": [
    "def sigmoidFunction(x : np.ndarray) -> np.ndarray :\n",
    "    return 1/(1 + np.exp(-x))"
   ]
  },
  {
   "cell_type": "code",
   "execution_count": null,
   "id": "5c9779b3",
   "metadata": {},
   "outputs": [],
   "source": [
    "def tanhFunction(x : np.ndarray) -> np.ndarray :\n",
    "    return (np.exp(x) - np.exp(-x)) / (np.exp(x) + np.exp(-x))  #More simple: np.tanh()"
   ]
  },
  {
   "cell_type": "markdown",
   "id": "9af45dc4",
   "metadata": {},
   "source": [
    "Qua đó, ta có hệ hàm số dùng để dự báo class của dữ liệu như sau:\n",
    "$$\n",
    "    \\begin {cases}\n",
    "    z = w_1*x_1 + ... + w_n*x_n + b \\\\\n",
    "    f(z) = sigmoid(z)\n",
    "    \\end {cases}\n",
    "$$"
   ]
  },
  {
   "cell_type": "code",
   "execution_count": 18,
   "id": "40e888ad",
   "metadata": {},
   "outputs": [],
   "source": [
    "def predict(w : np.ndarray, X : np.ndarray) -> np.ndarray:\n",
    "    z = linearFunction(w, X)    # Use linear function to synthesize features into z\n",
    "    return sigmoidFunction(z)"
   ]
  },
  {
   "cell_type": "markdown",
   "id": "b3e1803b",
   "metadata": {},
   "source": [
    "### Xây dựng hàm mất mát cho bài toán Logistic Regression"
   ]
  },
  {
   "cell_type": "markdown",
   "id": "13f40d33",
   "metadata": {},
   "source": [
    "Dựa trên bài toán, cho trước các class 0 và 1, thì ta có thể giả sử rằng xác suất để một điểm dữ liệu thuộc vào class 1 là $f(\\boldsymbol{w}^T \\boldsymbol{x})$ tương ứng với xác suất để điểm dữ liệu thuộc vào class 0 là $ 1 - f(\\boldsymbol{w}^T \\boldsymbol{x})$. Với một điểm dữ liệu training (đã biết y đầu ra) ta có thể viết như sau:\n",
    "$$\n",
    "\\begin{cases}\n",
    "    P(y_i = 1\\mid \\boldsymbol{x_i}; \\boldsymbol{w}) = f(\\boldsymbol{w}^T \\boldsymbol{x}) \\\\\n",
    "    P(y_i = 0\\mid \\boldsymbol{x_i}; \\boldsymbol{w}) = 1 - f(\\boldsymbol{w}^T \\boldsymbol{x})\n",
    "\\end{cases}\n",
    "$$\n",
    "Trong đó, $P(y_i = 1\\mid \\boldsymbol{x_i}; \\boldsymbol{w})$ được hiểu là xác suất xảy ra sự kiện đầu ra $y_i$ = 1 biết tham số mô hình và dữ liệu đầu vào tương ứng. Khi này, mục tiêu của ta sẽ là tìm giá trị $\\boldsymbol{w}$ sao cho $f(\\boldsymbol{w}^T \\boldsymbol{x})$ càng gần với 1 càng tốt với các điểm dữ liệu thuộc class 1 và càng gần với 0 càng tốt với những điểm thuộc class 0."
   ]
  },
  {
   "cell_type": "markdown",
   "id": "4d27754c",
   "metadata": {},
   "source": [
    "Ký hiệu $z_i = f(\\boldsymbol{w}^T \\boldsymbol{x})$ ta có thể viết lại như sau:\n",
    "$$\n",
    "    P(y_i\\mid \\boldsymbol{x_i}; \\boldsymbol{w}) = z_i^{y_i}*(1 - z_i)^{1- y_i}\n",
    "$$\n",
    "Biểu thức này tương đương bởi vì nếu $y_i = 1$ thì xác suất xảy ra với điều kiện biết trước tham số và dữ liệu đầu vào sẽ là $z_i$ và ngược lại khi $y_i = 0$"
   ]
  },
  {
   "cell_type": "markdown",
   "id": "6461069f",
   "metadata": {},
   "source": [
    "Khi này, với một tập dữ liệu huấn luyện $\\boldsymbol{X} = [\\boldsymbol{x}_1 , \\boldsymbol{x}_2, \\cdots, \\boldsymbol{x}_M]^T \\in \\mathbb{R}^{M \\times N}$ với mỗi $\\boldsymbol{x}_i$ là một điểm dữ liệu có $N$ features và $\\boldsymbol{y} = [y_1, y_2, \\cdots, y_M] $, chúng ta cần tìm $ \\boldsymbol{w} $ sao cho biểu thức sau đây đạt giá trị lớn nhất\n",
    "$$\n",
    "    P(\\boldsymbol{y} \\mid \\boldsymbol{X}; \\boldsymbol{w})\n",
    "$$\n",
    "với $\\boldsymbol{X}$ và $\\boldsymbol{y} $ có hành vi như biến ngẫu nhiên. Nói tóm lại, \n",
    "$$\n",
    "    \\boldsymbol{w} = \\arg\\max_{w} {P(\\boldsymbol{y} \\mid \\boldsymbol{X}; \\boldsymbol{w})}\n",
    "$$\n"
   ]
  },
  {
   "cell_type": "markdown",
   "id": "7e377750",
   "metadata": {},
   "source": [
    "Bài toán tìm tham số để mô hình gần dữ liệu có dạng như trên được gọi là **maximum likelihood restimation**. Thêm giả định rằng các điểm dữ liệu được sinh ra một cách ngẫu nhiên độc lập với nhau thì ta có thể viết lại:\n",
    "\n",
    "$$\n",
    "    P(\\boldsymbol{y} \\mid \\boldsymbol{X}; \\boldsymbol{w}) = \\prod_{i=1}^M (P(y_i\\mid \\boldsymbol{x}_i; \\boldsymbol{w}))= \\prod_{i=1}^M z_i^{y_i}*(1 - z_i)^{1- y_i}\n",
    "$$"
   ]
  },
  {
   "cell_type": "markdown",
   "id": "4f1b56ee",
   "metadata": {},
   "source": [
    "Quá trình tối ưu hóa hàm số này không hề dễ dàng và có thể có nhiều sai số có thể xảy ra. Một cách khác ta có thể biến đổi hàm số này sao cho đúng với khái niệm về hàm mất mát nhất chính là lấy giá trị âm của logarit tự nhiên của xác suất trên. Từ đó ta được một hàm mới:\n",
    "\n",
    "$$\n",
    "    LossFuntion(\\boldsymbol{w}) = -\\log {(P(\\boldsymbol{y} \\mid \\boldsymbol{X}; \\boldsymbol{w})}) \\\\\n",
    "    = - \\sum_{i = 1}^M (y_i \\log{z_i} + (1 - y_i) \\log {(1 - z_i)})\n",
    "$$"
   ]
  },
  {
   "cell_type": "markdown",
   "id": "32ee03e5",
   "metadata": {},
   "source": [
    "Biểu thức vế phải có tên gọi là **cross entropy**, thường được sử dụng để đo khoảng cách giữa hai phân phối (distributions). Trong bài toán đang xét, một phân phối là dữ liệu được cho, với xác suất chỉ là 0 hoặc 1; phân phối còn lại được tính theo mô hình logistic regression. Khoảng cách giữa hai phân phối nhỏ đồng nghĩa với việc (có vẻ hiển nhiên là) hai phân phối đó rất gần nhau"
   ]
  },
  {
   "cell_type": "code",
   "execution_count": 10,
   "id": "f7e01a7e",
   "metadata": {},
   "outputs": [],
   "source": [
    "def crossEntropyLoss(yTrue : np.ndarray, yPred : np.ndarray) -> np.ndarray:\n",
    "    return -(yTrue*np.log(yPred) + (1 - yTrue)*np.log(1 - yPred))"
   ]
  },
  {
   "cell_type": "code",
   "execution_count": 32,
   "id": "0ed9df06",
   "metadata": {},
   "outputs": [],
   "source": [
    "def weightGradient(yTrue : np.ndarray, yPred : np.array, X : np.ndarray) -> np.ndarray:\n",
    "    return -(yTrue - yPred)*X.T"
   ]
  },
  {
   "cell_type": "code",
   "execution_count": 12,
   "id": "a05aadd1",
   "metadata": {},
   "outputs": [],
   "source": [
    "def updateWeight(w: np.ndarray, weightGradients : np.ndarray, learningRate:np.float16) -> np.ndarray:\n",
    "    return w - learningRate*weightGradients"
   ]
  },
  {
   "cell_type": "markdown",
   "id": "54df0733",
   "metadata": {},
   "source": [
    "### Examine in the real context"
   ]
  },
  {
   "cell_type": "code",
   "execution_count": 23,
   "id": "974768c5",
   "metadata": {},
   "outputs": [],
   "source": [
    "# Initialize the data X and y\n",
    "X = np.array([\n",
    "    [1.0, 0.5],\n",
    "    [2.0, 1.0],\n",
    "    [3.0, 1.5],\n",
    "    [2.0, 2.0],\n",
    "    [1.0, 2.5],\n",
    "    [2.0, 3.0],\n",
    "    [1.0, 3.5],\n",
    "    [2.0, 4.0],\n",
    "])\n",
    "Y = np.array([0, 0, 1, 0, 0, 1, 1, 1])"
   ]
  },
  {
   "cell_type": "code",
   "execution_count": 24,
   "id": "2a680624",
   "metadata": {},
   "outputs": [],
   "source": [
    "numberOfSamples = X.shape[0]\n",
    "\n",
    "# Append another one row at the end of data X\n",
    "X = np.hstack([np.ones((numberOfSamples, 1)), X])"
   ]
  },
  {
   "cell_type": "code",
   "execution_count": 34,
   "id": "eeebb86e",
   "metadata": {},
   "outputs": [
    {
     "name": "stdout",
     "output_type": "stream",
     "text": [
      "Iteration 0 - Loss: 1.0733810664433971\n",
      "Iteration 1 - Loss: 1.06719060524287\n",
      "Iteration 2 - Loss: 1.0610778099671627\n",
      "Iteration 3 - Loss: 1.0550430431942694\n",
      "Iteration 4 - Loss: 1.0490866351029198\n",
      "Iteration 5 - Loss: 1.0432088827491226\n",
      "Iteration 6 - Loss: 1.0374100493939187\n",
      "Iteration 7 - Loss: 1.0316903638851274\n",
      "Iteration 8 - Loss: 1.0260500200957137\n",
      "Iteration 9 - Loss: 1.0204891764212172\n"
     ]
    }
   ],
   "source": [
    "numberOfFeatures = X.shape[1]\n",
    "weights = np.array([0.97843958, 0.42237186, 0.20944146])\n",
    "numberOfEpochs = 10\n",
    "learningRate = 0.001\n",
    "\n",
    "losses = []\n",
    "for epoch in range(numberOfEpochs):\n",
    "\n",
    "    epochLoss = []\n",
    "    for recordIdx in range(numberOfSamples):\n",
    "        x = X[recordIdx]\n",
    "        yTrue = Y[recordIdx]\n",
    "        yPred = predict(weights, x)\n",
    "\n",
    "        loss = crossEntropyLoss(yTrue, yPred)\n",
    "        epochLoss.append(loss)\n",
    "\n",
    "        weightChanges = weightGradient(yTrue, yPred, x)\n",
    "        weights = updateWeight(weights, weightChanges, learningRate)\n",
    "    \n",
    "    loss = sum(epochLoss)/len(epochLoss)\n",
    "    print(f\"Iteration {epoch} - Loss: {loss}\")\n",
    "    losses.append(loss)\n"
   ]
  },
  {
   "cell_type": "code",
   "execution_count": 35,
   "id": "d4e8a38a",
   "metadata": {},
   "outputs": [
    {
     "data": {
      "image/png": "[encoded data removed]",
      "text/plain": [
       "<Figure size 640x480 with 1 Axes>"
      ]
     },
     "metadata": {},
     "output_type": "display_data"
    }
   ],
   "source": [
    "import matplotlib.pyplot as plt\n",
    "plt.plot(list(range(numberOfEpochs)), losses)\n",
    "plt.xlabel(\"Iterations\")\n",
    "plt.ylabel(\"Losses\")\n",
    "\n",
    "plt.show()"
   ]
  }
 ],
 "metadata": {
  "kernelspec": {
   "display_name": "AIVN",
   "language": "python",
   "name": "python3"
  },
  "language_info": {
   "codemirror_mode": {
    "name": "ipython",
    "version": 3
   },
   "file_extension": ".py",
   "mimetype": "text/x-python",
   "name": "python",
   "nbconvert_exporter": "python",
   "pygments_lexer": "ipython3",
   "version": "3.13.2"
  }
 },
 "nbformat": 4,
 "nbformat_minor": 5
}
