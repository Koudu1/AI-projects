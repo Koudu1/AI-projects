{
 "cells": [
  {
   "cell_type": "markdown",
   "id": "fe69bf0a",
   "metadata": {},
   "source": [
    "## Implementation of Softmax Regression"
   ]
  },
  {
   "cell_type": "markdown",
   "id": "361b261d",
   "metadata": {},
   "source": [
    "Tổng quát: Phát triển từ Logistic Regression, Softmax Regression là một thuật toán học có giám sát được áp dụng trong bài toán phân loại. Điểm khác biệt của Softmax Regresison chính là nằm ở khả năng phân loại điểm dữ liệu trong tập đích có nhiều hơn 2 lớp, ở hàm xác định xác suất xảy ra của một sự kiện. "
   ]
  },
  {
   "cell_type": "code",
   "execution_count": 1,
   "id": "b18a2ab7",
   "metadata": {},
   "outputs": [],
   "source": [
    "# import necessary libraries\n",
    "import numpy as np"
   ]
  },
  {
   "cell_type": "markdown",
   "id": "791b4377",
   "metadata": {},
   "source": [
    "Trong Softmax Regression, hàm số tổng hợp đặc trưng dữ liệu vẫn là hàm số tuyến tính. Tuy vậy, sẽ có một sự khác biệt nho nhỏ. Do bài toán hiện tại đã mở ra với nhiều hơn hai lớp (3 lớp cần phân loại chẳng hạn), lúc này ta không thể dùng cách tiếp cận cũ của Logistic Regression. Thay vào đó, ta trực quan đầu ra của dữ liệu sẽ là một vecto cơ bản. Trong đó, sự kiện đầu ra thuộc vào nhóm nào thì tại vị trí đó sẽ là 1, còn các vị trí còn lại sẽ là 0. Chẳng hạn một điểm dữ liệu thuộc nhóm 0 sẽ có dạng vecto đầu ra là $[1, 0, 0]$. Và khi này ta sẽ tạo một vecto tổng hợp có lượng đầu ra cùng kích thước với nó. \n",
    "\n",
    "--> Nói cách khác, ta cần mở rộng số lượng tham số lên kích thước $d \\times C$ với d là số lượng feature còn C là số lượng class cần được phân loại \n",
    "\n",
    "Liên quan tới hàm số xác định xác suất xảy ra sự kiện đầu ra, ta sẽ không còn sử dụng hàm Sigmoid hay Tanh. Thay vào đó, ta sẽ kế thừa từ các dạng hàm này và sử dụng Softmax Function:\n",
    "\n",
    "$$\n",
    "    f(x) = \\frac {e^{z_i}} {\\sum_{i=1}^C (e^{z_i})}\n",
    "$$"
   ]
  },
  {
   "cell_type": "code",
   "execution_count": 10,
   "id": "e6ff55d4",
   "metadata": {},
   "outputs": [],
   "source": [
    "def softmaxFunction(z : np.ndarray) -> np.ndarray:\n",
    "    return np.exp(z) / np.sum(np.exp(z))"
   ]
  },
  {
   "cell_type": "markdown",
   "id": "d1245bc4",
   "metadata": {},
   "source": [
    "### Xây dựng hàm mất mát"
   ]
  },
  {
   "cell_type": "markdown",
   "id": "7d15b136",
   "metadata": {},
   "source": [
    "Hàm mất mát chúng ta sử dụng vẫn là cross entropy tuy nhiên, ta sẽ mở rộng ra cho nhiều class hơn\n",
    "$$\n",
    "    Loss(\\boldsymbol{w}) = - \\sum_{i = 1}^C (y_i \\log{z_i})\n",
    "$$\n",
    "với $y_i$ là xác suất sự kiện đầu ra đã biết tương ứng cho mỗi class $i$ và $z_i$ là xác suất mà mô hình dự báo tương ứng cho class $i$ "
   ]
  },
  {
   "cell_type": "code",
   "execution_count": 18,
   "id": "85596d14",
   "metadata": {},
   "outputs": [],
   "source": [
    "def predict(w : np.ndarray, x : np.ndarray):\n",
    "    z = np.dot(x, w)\n",
    "    return softmaxFunction(z)"
   ]
  },
  {
   "cell_type": "code",
   "execution_count": 89,
   "id": "6a146e02",
   "metadata": {},
   "outputs": [],
   "source": [
    "def crossEntropyLoss(yTrue : np.ndarray, yPred : np.ndarray) -> np.ndarray :\n",
    "    return -(np.dot(yTrue, np.log(yPred).transpose()))"
   ]
  },
  {
   "cell_type": "code",
   "execution_count": 92,
   "id": "e15aac76",
   "metadata": {},
   "outputs": [],
   "source": [
    "def weightGradient(yTrue : np.ndarray, yPred : np.ndarray, x : np.ndarray) ->np.ndarray:\n",
    "    return np.matmul(x.T, (yPred - yTrue).reshape(1,-1))"
   ]
  },
  {
   "cell_type": "code",
   "execution_count": 13,
   "id": "bb7e51bf",
   "metadata": {},
   "outputs": [],
   "source": [
    "def updateWeight(w : np.ndarray, weightGradients : np.ndarray, learningRate: np.ndarray) -> np.ndarray:\n",
    "    return w - learningRate*weightGradients"
   ]
  },
  {
   "cell_type": "markdown",
   "id": "98454589",
   "metadata": {},
   "source": [
    "### Examine in the real context"
   ]
  },
  {
   "cell_type": "code",
   "execution_count": 23,
   "id": "b8632ba2",
   "metadata": {},
   "outputs": [],
   "source": [
    "# Initialize the data X and y\n",
    "X = np.array([\n",
    "    [1.0, 0.5],\n",
    "    [2.0, 1.0],\n",
    "    [3.0, 1.5],\n",
    "    [2.0, 2.0],\n",
    "    [1.0, 2.5],\n",
    "    [2.0, 3.0],\n",
    "    [1.0, 3.5],\n",
    "    [2.0, 4.0],\n",
    "])\n",
    "Y = np.array([0, 2, 1, 2, 0, 2, 1, 1])"
   ]
  },
  {
   "cell_type": "code",
   "execution_count": 24,
   "id": "3d74eec3",
   "metadata": {},
   "outputs": [],
   "source": [
    "numberOfSamples = X.shape[0]\n",
    "numberOfClasses = len(np.unique(Y))\n",
    "\n",
    "transformedY = np.zeros((numberOfSamples, numberOfClasses)) "
   ]
  },
  {
   "cell_type": "code",
   "execution_count": 25,
   "id": "cd4a9579",
   "metadata": {},
   "outputs": [
    {
     "data": {
      "text/plain": [
       "array([[1., 0., 0.],\n",
       "       [0., 0., 1.],\n",
       "       [0., 1., 0.],\n",
       "       [0., 0., 1.],\n",
       "       [1., 0., 0.],\n",
       "       [0., 0., 1.],\n",
       "       [0., 1., 0.],\n",
       "       [0., 1., 0.]])"
      ]
     },
     "execution_count": 25,
     "metadata": {},
     "output_type": "execute_result"
    }
   ],
   "source": [
    "for row in range(numberOfSamples):\n",
    "    classIndex = Y[row]\n",
    "    transformedY[row][classIndex] = 1\n",
    "\n",
    "transformedY"
   ]
  },
  {
   "cell_type": "code",
   "execution_count": 26,
   "id": "417710e8",
   "metadata": {},
   "outputs": [],
   "source": [
    "X = np.hstack([X, np.ones((numberOfSamples, 1))])"
   ]
  },
  {
   "cell_type": "code",
   "execution_count": 113,
   "id": "73e5bf16",
   "metadata": {},
   "outputs": [
    {
     "data": {
      "text/plain": [
       "array([[0.38944138, 0.0398176 , 0.602609  ],\n",
       "       [0.27520668, 0.76462654, 0.06186396],\n",
       "       [0.14428398, 0.29615921, 0.29979336]])"
      ]
     },
     "execution_count": 113,
     "metadata": {},
     "output_type": "execute_result"
    }
   ],
   "source": [
    "numberOfFeatures = X.shape[1]\n",
    "weights = np.random.random((numberOfFeatures, numberOfClasses))\n",
    "weights"
   ]
  },
  {
   "cell_type": "code",
   "execution_count": 114,
   "id": "f4d2f872",
   "metadata": {},
   "outputs": [
    {
     "name": "stdout",
     "output_type": "stream",
     "text": [
      "Iteration 0 - Loss: [[1.11956113]]\n",
      "Iteration 1 - Loss: [[1.10078273]]\n",
      "Iteration 2 - Loss: [[1.09307577]]\n",
      "Iteration 3 - Loss: [[1.08849568]]\n",
      "Iteration 4 - Loss: [[1.08482387]]\n",
      "Iteration 5 - Loss: [[1.08142706]]\n",
      "Iteration 6 - Loss: [[1.07812255]]\n",
      "Iteration 7 - Loss: [[1.07486151]]\n",
      "Iteration 8 - Loss: [[1.07163456]]\n",
      "Iteration 9 - Loss: [[1.06844268]]\n",
      "Iteration 10 - Loss: [[1.06528843]]\n",
      "Iteration 11 - Loss: [[1.0621736]]\n",
      "Iteration 12 - Loss: [[1.05909899]]\n",
      "Iteration 13 - Loss: [[1.05606456]]\n",
      "Iteration 14 - Loss: [[1.05306973]]\n",
      "Iteration 15 - Loss: [[1.0501136]]\n",
      "Iteration 16 - Loss: [[1.04719511]]\n",
      "Iteration 17 - Loss: [[1.04431311]]\n",
      "Iteration 18 - Loss: [[1.04146648]]\n",
      "Iteration 19 - Loss: [[1.03865409]]\n",
      "Iteration 20 - Loss: [[1.03587486]]\n",
      "Iteration 21 - Loss: [[1.03312777]]\n",
      "Iteration 22 - Loss: [[1.03041186]]\n",
      "Iteration 23 - Loss: [[1.02772621]]\n",
      "Iteration 24 - Loss: [[1.02506999]]\n",
      "Iteration 25 - Loss: [[1.02244238]]\n",
      "Iteration 26 - Loss: [[1.01984264]]\n",
      "Iteration 27 - Loss: [[1.01727007]]\n",
      "Iteration 28 - Loss: [[1.01472401]]\n",
      "Iteration 29 - Loss: [[1.01220383]]\n",
      "Iteration 30 - Loss: [[1.00970895]]\n",
      "Iteration 31 - Loss: [[1.00723882]]\n",
      "Iteration 32 - Loss: [[1.00479293]]\n",
      "Iteration 33 - Loss: [[1.00237078]]\n",
      "Iteration 34 - Loss: [[0.9999719]]\n",
      "Iteration 35 - Loss: [[0.99759587]]\n",
      "Iteration 36 - Loss: [[0.99524225]]\n",
      "Iteration 37 - Loss: [[0.99291066]]\n",
      "Iteration 38 - Loss: [[0.99060071]]\n",
      "Iteration 39 - Loss: [[0.98831205]]\n",
      "Iteration 40 - Loss: [[0.98604433]]\n",
      "Iteration 41 - Loss: [[0.98379723]]\n",
      "Iteration 42 - Loss: [[0.98157042]]\n",
      "Iteration 43 - Loss: [[0.97936361]]\n",
      "Iteration 44 - Loss: [[0.9771765]]\n",
      "Iteration 45 - Loss: [[0.97500881]]\n",
      "Iteration 46 - Loss: [[0.97286028]]\n",
      "Iteration 47 - Loss: [[0.97073064]]\n",
      "Iteration 48 - Loss: [[0.96861965]]\n",
      "Iteration 49 - Loss: [[0.96652705]]\n"
     ]
    }
   ],
   "source": [
    "numberOfEpochs = 50\n",
    "learningRate = 0.03\n",
    "\n",
    "losses = []\n",
    "for epoch in range(numberOfEpochs):\n",
    "\n",
    "    epochLosses = []\n",
    "    for index in range(numberOfSamples):\n",
    "\n",
    "        x = X[index].reshape(1, -1)\n",
    "        yTrue = transformedY[index].reshape(1, -1)\n",
    "\n",
    "        yPred = predict(weights, x)\n",
    "        epochLoss = crossEntropyLoss(yTrue, yPred)\n",
    "        epochLosses.append(epochLoss)\n",
    "\n",
    "        weightChange = weightGradient(yTrue, yPred, x)\n",
    "        weights = updateWeight(weights, weightChange, learningRate)\n",
    "    loss = sum(epochLosses)/len(epochLosses)\n",
    "    print(f\"Iteration {epoch} - Loss: {loss}\")\n",
    "    losses.append(np.squeeze(loss, axis=1))"
   ]
  },
  {
   "cell_type": "code",
   "execution_count": 115,
   "id": "031a2de3",
   "metadata": {},
   "outputs": [
    {
     "data": {
      "image/png": "[encoded data removed]",
      "text/plain": [
       "<Figure size 640x480 with 1 Axes>"
      ]
     },
     "metadata": {},
     "output_type": "display_data"
    }
   ],
   "source": [
    "import matplotlib.pyplot as plt\n",
    "plt.plot(list(range(numberOfEpochs)), losses)\n",
    "plt.show()"
   ]
  }
 ],
 "metadata": {
  "kernelspec": {
   "display_name": "AIVN",
   "language": "python",
   "name": "python3"
  },
  "language_info": {
   "codemirror_mode": {
    "name": "ipython",
    "version": 3
   },
   "file_extension": ".py",
   "mimetype": "text/x-python",
   "name": "python",
   "nbconvert_exporter": "python",
   "pygments_lexer": "ipython3",
   "version": "3.13.2"
  }
 },
 "nbformat": 4,
 "nbformat_minor": 5
}
